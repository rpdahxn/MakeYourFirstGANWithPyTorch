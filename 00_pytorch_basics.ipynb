{
  "nbformat": 4,
  "nbformat_minor": 0,
  "metadata": {
    "colab": {
      "name": "00_pytorch_basics.ipynb",
      "provenance": [],
      "authorship_tag": "ABX9TyMeYcnUFUG22gOWXs1yYprI",
      "include_colab_link": true
    },
    "kernelspec": {
      "name": "python3",
      "display_name": "Python 3"
    },
    "language_info": {
      "name": "python"
    },
    "accelerator": "GPU"
  },
  "cells": [
    {
      "cell_type": "markdown",
      "metadata": {
        "id": "view-in-github",
        "colab_type": "text"
      },
      "source": [
        "<a href=\"https://colab.research.google.com/github/rpdahxn/MakeYourFirstGANWithPyTorch/blob/main/00_pytorch_basics.ipynb\" target=\"_parent\"><img src=\"https://colab.research.google.com/assets/colab-badge.svg\" alt=\"Open In Colab\"/></a>"
      ]
    },
    {
      "cell_type": "code",
      "execution_count": 1,
      "metadata": {
        "id": "1vBiyXrYfI8e"
      },
      "outputs": [],
      "source": [
        "import torch"
      ]
    },
    {
      "cell_type": "code",
      "source": [
        "# x, y, z에 관련된 간단한 그래프 설정\n",
        "x = torch.tensor(3.5, requires_grad = True)\n",
        "y = x*x\n",
        "z = 2*y + 3"
      ],
      "metadata": {
        "id": "xqUKGdCofV9F"
      },
      "execution_count": 2,
      "outputs": []
    },
    {
      "cell_type": "markdown",
      "source": [
        "기울기를 구하고 싶으면 역방향으로도 작동하도록 backward()함수를 사용한다."
      ],
      "metadata": {
        "id": "jAxqZBjhgCy2"
      }
    },
    {
      "cell_type": "code",
      "source": [
        "# 기울기 계산\n",
        "z.backward()"
      ],
      "metadata": {
        "id": "tcspJLbafgvl"
      },
      "execution_count": 3,
      "outputs": []
    },
    {
      "cell_type": "markdown",
      "source": [
        "기울기 dz/dx는 텐서 x안의 x.grad에 저장된다."
      ],
      "metadata": {
        "id": "DJZcbFpHf5O4"
      }
    },
    {
      "cell_type": "code",
      "source": [
        "# x = 3.5 일 때의 기울기\n",
        "print(x.grad)"
      ],
      "metadata": {
        "colab": {
          "base_uri": "https://localhost:8080/"
        },
        "id": "Kw1WRL8lfzHr",
        "outputId": "21135faa-fd01-4007-9c5d-0a5ce537e1d4"
      },
      "execution_count": 5,
      "outputs": [
        {
          "output_type": "stream",
          "name": "stdout",
          "text": [
            "tensor(14.)\n"
          ]
        }
      ]
    },
    {
      "cell_type": "code",
      "source": [
        "# x, y, z에 관련된 간단한 그래프 설정\n",
        "a = torch.tensor(2.0, requires_grad = True)\n",
        "b = torch.tensor(1.0, requires_grad = True)\n",
        "\n",
        "x = 2*a + 3*b\n",
        "y = 5*a*a + 3*b*b*b\n",
        "z = 2*x + 3*y"
      ],
      "metadata": {
        "id": "TRf1xYeUf-tv"
      },
      "execution_count": 6,
      "outputs": []
    },
    {
      "cell_type": "code",
      "source": [
        "z.backward()\n",
        "\n",
        "# a = 2.0일 때의 기울기\n",
        "a.grad"
      ],
      "metadata": {
        "colab": {
          "base_uri": "https://localhost:8080/"
        },
        "id": "cm-OuCEdhjgJ",
        "outputId": "78fd8767-f278-4a2e-f93a-4a5bd7253024"
      },
      "execution_count": 7,
      "outputs": [
        {
          "output_type": "execute_result",
          "data": {
            "text/plain": [
              "tensor(64.)"
            ]
          },
          "metadata": {},
          "execution_count": 7
        }
      ]
    }
  ]
}