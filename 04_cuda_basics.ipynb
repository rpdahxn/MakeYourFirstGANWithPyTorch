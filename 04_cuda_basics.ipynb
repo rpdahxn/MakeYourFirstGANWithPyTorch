{
  "nbformat": 4,
  "nbformat_minor": 0,
  "metadata": {
    "colab": {
      "name": "04_cuda_basics.ipynb",
      "provenance": [],
      "collapsed_sections": [],
      "authorship_tag": "ABX9TyNB+NQ6gWPzAZaPB861GS+Y",
      "include_colab_link": true
    },
    "kernelspec": {
      "name": "python3",
      "display_name": "Python 3"
    },
    "language_info": {
      "name": "python"
    },
    "accelerator": "GPU"
  },
  "cells": [
    {
      "cell_type": "markdown",
      "metadata": {
        "id": "view-in-github",
        "colab_type": "text"
      },
      "source": [
        "<a href=\"https://colab.research.google.com/github/rpdahxn/MakeYourFirstGANWithPyTorch/blob/main/04_cuda_basics.ipynb\" target=\"_parent\"><img src=\"https://colab.research.google.com/assets/colab-badge.svg\" alt=\"Open In Colab\"/></a>"
      ]
    },
    {
      "cell_type": "code",
      "execution_count": 1,
      "metadata": {
        "id": "YEv3eog750m8"
      },
      "outputs": [],
      "source": [
        "import torch\n",
        "import numpy"
      ]
    },
    {
      "cell_type": "code",
      "source": [
        "size = 600\n",
        "\n",
        "a = numpy.random.rand(size, size)\n",
        "b = numpy.random.rand(size, size)"
      ],
      "metadata": {
        "id": "6xrbFhus5-vB"
      },
      "execution_count": 2,
      "outputs": []
    },
    {
      "cell_type": "code",
      "source": [
        "%%timeit\n",
        "\n",
        "x = numpy.dot(a,b)"
      ],
      "metadata": {
        "colab": {
          "base_uri": "https://localhost:8080/"
        },
        "id": "W8DMoZup6IP5",
        "outputId": "e73b10ee-3828-4620-9be6-a7e0811caa68"
      },
      "execution_count": 3,
      "outputs": [
        {
          "output_type": "stream",
          "name": "stdout",
          "text": [
            "100 loops, best of 5: 13.8 ms per loop\n"
          ]
        }
      ]
    },
    {
      "cell_type": "code",
      "source": [
        "%%timeit\n",
        "\n",
        "c = numpy.zeros((size,size))\n",
        "\n",
        "for i in range(size):\n",
        "  for j in range(size):\n",
        "    for k in range(size):\n",
        "      c[i,j] += a[i,k] * b[k,j]\n",
        "    pass\n",
        "  pass"
      ],
      "metadata": {
        "colab": {
          "base_uri": "https://localhost:8080/"
        },
        "id": "m-nhKi7p6L3c",
        "outputId": "de49da4f-7c0e-42e2-ceaf-f9f0d833bee1"
      },
      "execution_count": 4,
      "outputs": [
        {
          "output_type": "stream",
          "name": "stdout",
          "text": [
            "1 loop, best of 5: 2min 30s per loop\n"
          ]
        }
      ]
    },
    {
      "cell_type": "markdown",
      "source": [
        "즉, numpy 계산이 훨씬 빠르다."
      ],
      "metadata": {
        "id": "YT25eYox6qQf"
      }
    },
    {
      "cell_type": "code",
      "source": [
        "# GPU에서 텐서 생성\n",
        "\n",
        "x = torch.cuda.FloatTensor([3.5])\n",
        "x.type()"
      ],
      "metadata": {
        "colab": {
          "base_uri": "https://localhost:8080/",
          "height": 35
        },
        "id": "fVmizwYa6oJ-",
        "outputId": "96a14c88-6833-4a34-f073-98a8b8987532"
      },
      "execution_count": 5,
      "outputs": [
        {
          "output_type": "execute_result",
          "data": {
            "text/plain": [
              "'torch.cuda.FloatTensor'"
            ],
            "application/vnd.google.colaboratory.intrinsic+json": {
              "type": "string"
            }
          },
          "metadata": {},
          "execution_count": 5
        }
      ]
    },
    {
      "cell_type": "code",
      "source": [
        "x.device"
      ],
      "metadata": {
        "colab": {
          "base_uri": "https://localhost:8080/"
        },
        "id": "gr0ebQ8K63MX",
        "outputId": "283c1fe2-b25a-4b9d-ee45-55edfded982a"
      },
      "execution_count": 7,
      "outputs": [
        {
          "output_type": "execute_result",
          "data": {
            "text/plain": [
              "device(type='cuda', index=0)"
            ]
          },
          "metadata": {},
          "execution_count": 7
        }
      ]
    },
    {
      "cell_type": "code",
      "source": [
        "y = x*x\n",
        "y"
      ],
      "metadata": {
        "colab": {
          "base_uri": "https://localhost:8080/"
        },
        "id": "UQ8zgznh64CR",
        "outputId": "0e7ca2c4-b38c-4473-dff2-b8868dba325c"
      },
      "execution_count": 8,
      "outputs": [
        {
          "output_type": "execute_result",
          "data": {
            "text/plain": [
              "tensor([12.2500], device='cuda:0')"
            ]
          },
          "metadata": {},
          "execution_count": 8
        }
      ]
    },
    {
      "cell_type": "code",
      "source": [
        "aa = torch.cuda.FloatTensor(a)\n",
        "bb = torch.cuda.FloatTensor(b)"
      ],
      "metadata": {
        "id": "Plqqn7Ce67AH"
      },
      "execution_count": 9,
      "outputs": []
    },
    {
      "cell_type": "code",
      "source": [
        "%%timeit\n",
        "\n",
        "cc = torch.matmul(aa, bb)"
      ],
      "metadata": {
        "colab": {
          "base_uri": "https://localhost:8080/"
        },
        "id": "CuDqidp27DX8",
        "outputId": "cf0e9844-72bf-4fa1-88e7-3208a0fd4814"
      },
      "execution_count": 10,
      "outputs": [
        {
          "output_type": "stream",
          "name": "stdout",
          "text": [
            "The slowest run took 186.65 times longer than the fastest. This could mean that an intermediate result is being cached.\n",
            "10000 loops, best of 5: 277 µs per loop\n"
          ]
        }
      ]
    },
    {
      "cell_type": "code",
      "source": [
        "if torch.cuda.is_available():\n",
        "  torch.set_default_tensor_type(torch.cuda.FloatTensor)\n",
        "  print(\"using cuda:\", torch.cuda.get_device_name(0))\n",
        "  pass\n",
        "\n",
        "device = torch.device(\"cuda\" if torch.cuda.is_available() else \"cpu\")\n",
        "\n",
        "device"
      ],
      "metadata": {
        "colab": {
          "base_uri": "https://localhost:8080/"
        },
        "id": "LeRNDWDM7IIU",
        "outputId": "b9706175-7cc3-4062-b85a-56c20ada3c7e"
      },
      "execution_count": 11,
      "outputs": [
        {
          "output_type": "stream",
          "name": "stdout",
          "text": [
            "using cuda: Tesla K80\n"
          ]
        },
        {
          "output_type": "execute_result",
          "data": {
            "text/plain": [
              "device(type='cuda')"
            ]
          },
          "metadata": {},
          "execution_count": 11
        }
      ]
    }
  ]
}