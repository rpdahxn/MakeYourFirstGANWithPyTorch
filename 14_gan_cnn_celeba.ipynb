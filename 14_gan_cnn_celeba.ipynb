{
  "nbformat": 4,
  "nbformat_minor": 0,
  "metadata": {
    "colab": {
      "name": "14_gan_cnn_celeba.ipynb",
      "provenance": [],
      "authorship_tag": "ABX9TyP6QCvktd1e+fVzkOqS5wvO",
      "include_colab_link": true
    },
    "kernelspec": {
      "name": "python3",
      "display_name": "Python 3"
    },
    "language_info": {
      "name": "python"
    },
    "accelerator": "GPU"
  },
  "cells": [
    {
      "cell_type": "markdown",
      "metadata": {
        "id": "view-in-github",
        "colab_type": "text"
      },
      "source": [
        "<a href=\"https://colab.research.google.com/github/rpdahxn/MakeYourFirstGANWithPyTorch/blob/main/14_gan_cnn_celeba.ipynb\" target=\"_parent\"><img src=\"https://colab.research.google.com/assets/colab-badge.svg\" alt=\"Open In Colab\"/></a>"
      ]
    },
    {
      "cell_type": "code",
      "execution_count": 1,
      "metadata": {
        "colab": {
          "base_uri": "https://localhost:8080/"
        },
        "id": "vUpPpO2OI3Tc",
        "outputId": "4ae8ca8d-567f-4f49-ee2c-544c2a10495f"
      },
      "outputs": [
        {
          "output_type": "stream",
          "name": "stdout",
          "text": [
            "Mounted at ./mount\n"
          ]
        }
      ],
      "source": [
        "from google.colab import drive\n",
        "drive.mount('./mount')"
      ]
    },
    {
      "cell_type": "code",
      "source": [
        "import torch\n",
        "import torch.nn as nn\n",
        "from torch.utils.data import Dataset\n",
        "\n",
        "import h5py\n",
        "import pandas, numpy, random\n",
        "import matplotlib.pyplot as plt"
      ],
      "metadata": {
        "id": "05K9gPq_JEmO"
      },
      "execution_count": 2,
      "outputs": []
    },
    {
      "cell_type": "code",
      "source": [
        "if torch.cuda.is_available():\n",
        "  torch.set_default_tensor_type(torch.cuda.FloatTensor)\n",
        "  print(\"using cuda: \", torch.cuda.get_device_name(0))\n",
        "  pass\n",
        "\n",
        "device = torch.device(\"cuda\" if torch.cuda.is_available() else \"cpu\")\n",
        "\n",
        "device"
      ],
      "metadata": {
        "colab": {
          "base_uri": "https://localhost:8080/"
        },
        "id": "86xgZT9TJcnJ",
        "outputId": "63e33d8a-023b-4b02-ad01-d5e1291eb705"
      },
      "execution_count": 3,
      "outputs": [
        {
          "output_type": "stream",
          "name": "stdout",
          "text": [
            "using cuda:  Tesla K80\n"
          ]
        },
        {
          "output_type": "execute_result",
          "data": {
            "text/plain": [
              "device(type='cuda')"
            ]
          },
          "metadata": {},
          "execution_count": 3
        }
      ]
    },
    {
      "cell_type": "code",
      "source": [
        "def generate_random_image(size):\n",
        "  random_data = torch.rand(size)\n",
        "  return random_data\n",
        "\n",
        "def generate_random_seed(size):\n",
        "  random_data = torch.randn(size)\n",
        "  return random_data"
      ],
      "metadata": {
        "id": "cmzNZdfdJvIN"
      },
      "execution_count": 4,
      "outputs": []
    },
    {
      "cell_type": "code",
      "source": [
        "class View(nn.Module):\n",
        "  def __init__(self, shape):\n",
        "    super().__init__()\n",
        "    self.shape = shape,\n",
        "\n",
        "  def forward(self, x):\n",
        "    return x.view(*self.shape)"
      ],
      "metadata": {
        "id": "o7kNDEylJ8YD"
      },
      "execution_count": 5,
      "outputs": []
    },
    {
      "cell_type": "code",
      "source": [
        "def crop_centre(img, new_width, new_height):\n",
        "    height, width, _ = img.shape\n",
        "    startx = width//2 - new_width//2\n",
        "    starty = height//2 - new_height//2    \n",
        "    return img[  starty:starty + new_height, startx:startx + new_width, :]"
      ],
      "metadata": {
        "id": "T-_DyE-WKJw7"
      },
      "execution_count": 6,
      "outputs": []
    },
    {
      "cell_type": "code",
      "source": [
        "class CelebADataset(Dataset):\n",
        "    \n",
        "    def __init__(self, file):\n",
        "        self.file_object = h5py.File(file, 'r')\n",
        "        self.dataset = self.file_object['img_align_celeba']\n",
        "        pass\n",
        "    \n",
        "    def __len__(self):\n",
        "        return len(self.dataset)\n",
        "    \n",
        "    def __getitem__(self, index):\n",
        "        if (index >= len(self.dataset)):\n",
        "          raise IndexError()\n",
        "        img = numpy.array(self.dataset[str(index)+'.jpg'])\n",
        "        # 128x128 사각형으로 크롭\n",
        "        img = crop_centre(img, 128, 128)\n",
        "        return torch.cuda.FloatTensor(img).permute(2,0,1).view(1,3,128,128) / 255.0\n",
        "    \n",
        "    def plot_image(self, index):\n",
        "        img = numpy.array(self.dataset[str(index)+'.jpg'])\n",
        "        # 128x128 사각형으로 크롭\n",
        "        img = crop_centre(img, 128, 128)\n",
        "        plt.imshow(img, interpolation='nearest')\n",
        "        pass\n",
        "    \n",
        "    pass"
      ],
      "metadata": {
        "id": "iNjlQjcZKeds"
      },
      "execution_count": 7,
      "outputs": []
    },
    {
      "cell_type": "code",
      "source": [
        "celeba_dataset = CelebADataset('/content/mount/MyDrive/Colab Notebooks/celeba_dataset/celeba_aligned_small.h5py')"
      ],
      "metadata": {
        "id": "i5sTpX0QLKCO"
      },
      "execution_count": 8,
      "outputs": []
    },
    {
      "cell_type": "code",
      "source": [
        "celeba_dataset.plot_image(4)"
      ],
      "metadata": {
        "colab": {
          "base_uri": "https://localhost:8080/",
          "height": 268
        },
        "id": "dd8VCgIALRwT",
        "outputId": "13da9ab3-3e9f-4386-e384-319a24f216be"
      },
      "execution_count": 9,
      "outputs": [
        {
          "output_type": "display_data",
          "data": {
            "text/plain": [
              "<Figure size 432x288 with 1 Axes>"
            ],
            "image/png": "[encoded data removed]"
          },
          "metadata": {
            "needs_background": "light"
          }
        }
      ]
    },
    {
      "cell_type": "code",
      "source": [
        "class Discriminator(nn.Module):\n",
        "\n",
        "  def __init__(self):\n",
        "    super().__init__()\n",
        "\n",
        "    self.model = nn.Sequential(\n",
        "        # (1, 3, 128, 128) 형태를 의도한다.\n",
        "        nn.Conv2d(3, 256, kernel_size = 8, stride = 2),\n",
        "        nn.BatchNorm2d(256),\n",
        "        nn.LeakyReLU(0.2),\n",
        "\n",
        "        nn.Conv2d(256, 256, kernel_size = 8, stride = 2),\n",
        "        nn.BatchNorm2d(256),\n",
        "        nn.LeakyReLU(0.2),\n",
        "\n",
        "        nn.Conv2d(256, 3, kernel_size = 8, stride = 2),\n",
        "        nn.LeakyReLU(0.2),\n",
        "\n",
        "        View(3*10*10),\n",
        "        nn.Linear(3*10*10, 1),\n",
        "        nn.Sigmoid()\n",
        "    )\n",
        "\n",
        "    self.loss_function = nn.BCELoss()\n",
        "\n",
        "    self.optimiser = torch.optim.Adam(self.parameters(), lr = 0.0001)\n",
        "\n",
        "    self.counter = 0\n",
        "    self.progress = []\n",
        "\n",
        "    pass\n",
        "\n",
        "\n",
        "  def forward(self, inputs):\n",
        "    return self.model(inputs)\n",
        "\n",
        "\n",
        "  def train(self, inputs, targets):\n",
        "    outputs = self.forward(inputs)\n",
        "\n",
        "    loss = self.loss_function(outputs, targets)\n",
        "\n",
        "    self.counter += 1\n",
        "    if (self.counter % 10 == 0):\n",
        "      self.progress.append(loss.item())\n",
        "      pass\n",
        "    if (self.counter % 1000 == 0):\n",
        "      print(\"counter : \", self.counter)\n",
        "      pass\n",
        "\n",
        "    self.optimiser.zero_grad()\n",
        "    loss.backward()\n",
        "    self.optimiser.step()\n",
        "\n",
        "    pass\n",
        "\n",
        "\n",
        "  def plot_progress(self):\n",
        "      df = pandas.DataFrame(self.progress, columns=['loss'])\n",
        "      df.plot(ylim=(0), figsize=(16,8), alpha=0.1, marker='.', grid=True, yticks=(0, 0.25, 0.5, 1.0, 5.0))\n",
        "      pass\n",
        "      \n",
        "  pass"
      ],
      "metadata": {
        "id": "hVN1DlJDLULB"
      },
      "execution_count": 10,
      "outputs": []
    },
    {
      "cell_type": "code",
      "source": [
        "# 판별기 테스트\n",
        "\n",
        "D = Discriminator()\n",
        "# 모델을 cuda로 배치\n",
        "D.to(device)\n",
        "\n",
        "for image_data_tensor in celeba_dataset:\n",
        "  D.train(image_data_tensor, torch.cuda.FloatTensor([1.0]))\n",
        "  D.train(generate_random_image((1, 3, 128, 128)), torch.cuda.FloatTensor([0.0]))\n",
        "  pass"
      ],
      "metadata": {
        "colab": {
          "base_uri": "https://localhost:8080/"
        },
        "id": "a1RxgxzgStZX",
        "outputId": "409d4ab8-0da3-4bc3-af5b-e145900295d2"
      },
      "execution_count": 11,
      "outputs": [
        {
          "output_type": "stream",
          "name": "stdout",
          "text": [
            "counter :  1000\n",
            "counter :  2000\n",
            "counter :  3000\n",
            "counter :  4000\n",
            "counter :  5000\n",
            "counter :  6000\n",
            "counter :  7000\n",
            "counter :  8000\n",
            "counter :  9000\n",
            "counter :  10000\n",
            "counter :  11000\n",
            "counter :  12000\n",
            "counter :  13000\n",
            "counter :  14000\n",
            "counter :  15000\n",
            "counter :  16000\n",
            "counter :  17000\n",
            "counter :  18000\n",
            "counter :  19000\n",
            "counter :  20000\n",
            "counter :  21000\n",
            "counter :  22000\n",
            "counter :  23000\n",
            "counter :  24000\n",
            "counter :  25000\n",
            "counter :  26000\n",
            "counter :  27000\n",
            "counter :  28000\n",
            "counter :  29000\n",
            "counter :  30000\n",
            "counter :  31000\n",
            "counter :  32000\n",
            "counter :  33000\n",
            "counter :  34000\n",
            "counter :  35000\n",
            "counter :  36000\n",
            "counter :  37000\n",
            "counter :  38000\n",
            "counter :  39000\n",
            "counter :  40000\n"
          ]
        }
      ]
    },
    {
      "cell_type": "code",
      "source": [
        "D.plot_progress()"
      ],
      "metadata": {
        "colab": {
          "base_uri": "https://localhost:8080/",
          "height": 487
        },
        "id": "dg89CiywTXLH",
        "outputId": "a285ae74-e533-4fe7-d59a-ade900478c71"
      },
      "execution_count": 12,
      "outputs": [
        {
          "output_type": "display_data",
          "data": {
            "text/plain": [
              "<Figure size 1152x576 with 1 Axes>"
            ],
            "image/png": "[encoded data removed]"
          },
          "metadata": {
            "needs_background": "light"
          }
        }
      ]
    },
    {
      "cell_type": "code",
      "source": [
        "# 가짜와 진짜를 판별할 수 있는지 직접 구동\n",
        "\n",
        "for i in range(4):\n",
        "  image_data_tensor = celeba_dataset[random.randint(0, 20000)]\n",
        "  print(D.forward(image_data_tensor).item())\n",
        "  pass\n",
        "\n",
        "for i in range(4):\n",
        "  print(D.forward(generate_random_image((1, 3, 128, 128))).item())\n",
        "  pass"
      ],
      "metadata": {
        "colab": {
          "base_uri": "https://localhost:8080/"
        },
        "id": "dJ-x5qVUTZ_m",
        "outputId": "aa3a3d3c-eff8-4b02-9482-a466f030f220"
      },
      "execution_count": 13,
      "outputs": [
        {
          "output_type": "stream",
          "name": "stdout",
          "text": [
            "1.0\n",
            "1.0\n",
            "1.0\n",
            "1.0\n",
            "1.4077338619244983e-06\n",
            "1.1634317161224317e-05\n",
            "1.7719004972605035e-05\n",
            "3.2461358046020905e-07\n"
          ]
        }
      ]
    },
    {
      "cell_type": "code",
      "source": [
        ""
      ],
      "metadata": {
        "id": "IyBx2LrETyuP"
      },
      "execution_count": null,
      "outputs": []
    }
  ]
}